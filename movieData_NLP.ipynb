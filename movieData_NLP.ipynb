{
 "cells": [
  {
   "cell_type": "code",
   "execution_count": 78,
   "metadata": {},
   "outputs": [],
   "source": [
    "import json\n",
    "import pandas as pd\n",
    "import numpy as np\n",
    "from konlpy.tag import Komoran\n",
    "from konlpy.tag import Twitter\n",
    "from konlpy.tag import Kkma\n",
    "from time import time\n",
    "import pickle\n",
    "import os"
   ]
  },
  {
   "cell_type": "markdown",
   "metadata": {},
   "source": [
    "###  Load Data "
   ]
  },
  {
   "cell_type": "code",
   "execution_count": 3,
   "metadata": {},
   "outputs": [],
   "source": [
    "with open('sample.csv','r') as f:\n",
    "    data = f.read()\n",
    "    lines = data.split('\\n')"
   ]
  },
  {
   "cell_type": "code",
   "execution_count": 4,
   "metadata": {},
   "outputs": [
    {
     "name": "stdout",
     "output_type": "stream",
     "text": [
      "no,movie,content,rate\n"
     ]
    }
   ],
   "source": [
    "print(lines[0])"
   ]
  },
  {
   "cell_type": "code",
   "execution_count": 5,
   "metadata": {},
   "outputs": [
    {
     "name": "stdout",
     "output_type": "stream",
     "text": [
      "14335294,군함도,최악의 역사왜곡영화다 이거는,1\n"
     ]
    }
   ],
   "source": [
    "print(lines[1])"
   ]
  },
  {
   "cell_type": "code",
   "execution_count": 6,
   "metadata": {},
   "outputs": [
    {
     "data": {
      "text/plain": [
       "9587"
      ]
     },
     "execution_count": 6,
     "metadata": {},
     "output_type": "execute_result"
    }
   ],
   "source": [
    "len(lines)"
   ]
  },
  {
   "cell_type": "code",
   "execution_count": 13,
   "metadata": {},
   "outputs": [
    {
     "data": {
      "text/plain": [
       "504798"
      ]
     },
     "execution_count": 13,
     "metadata": {},
     "output_type": "execute_result"
    }
   ],
   "source": [
    "len(data)"
   ]
  },
  {
   "cell_type": "markdown",
   "metadata": {},
   "source": [
    "###  Data Frame으로 변환"
   ]
  },
  {
   "cell_type": "code",
   "execution_count": 58,
   "metadata": {},
   "outputs": [],
   "source": [
    "df = pd.read_csv('sample.csv', encoding='euc-kr')"
   ]
  },
  {
   "cell_type": "code",
   "execution_count": 59,
   "metadata": {},
   "outputs": [
    {
     "data": {
      "text/html": [
       "<div>\n",
       "<style scoped>\n",
       "    .dataframe tbody tr th:only-of-type {\n",
       "        vertical-align: middle;\n",
       "    }\n",
       "\n",
       "    .dataframe tbody tr th {\n",
       "        vertical-align: top;\n",
       "    }\n",
       "\n",
       "    .dataframe thead th {\n",
       "        text-align: right;\n",
       "    }\n",
       "</style>\n",
       "<table border=\"1\" class=\"dataframe\">\n",
       "  <thead>\n",
       "    <tr style=\"text-align: right;\">\n",
       "      <th></th>\n",
       "      <th>no</th>\n",
       "      <th>rate</th>\n",
       "    </tr>\n",
       "  </thead>\n",
       "  <tbody>\n",
       "    <tr>\n",
       "      <th>count</th>\n",
       "      <td>9.585000e+03</td>\n",
       "      <td>9585.000000</td>\n",
       "    </tr>\n",
       "    <tr>\n",
       "      <th>mean</th>\n",
       "      <td>1.432988e+07</td>\n",
       "      <td>8.718310</td>\n",
       "    </tr>\n",
       "    <tr>\n",
       "      <th>std</th>\n",
       "      <td>3.146935e+03</td>\n",
       "      <td>2.484162</td>\n",
       "    </tr>\n",
       "    <tr>\n",
       "      <th>min</th>\n",
       "      <td>1.432442e+07</td>\n",
       "      <td>1.000000</td>\n",
       "    </tr>\n",
       "    <tr>\n",
       "      <th>25%</th>\n",
       "      <td>1.432714e+07</td>\n",
       "      <td>8.000000</td>\n",
       "    </tr>\n",
       "    <tr>\n",
       "      <th>50%</th>\n",
       "      <td>1.432989e+07</td>\n",
       "      <td>10.000000</td>\n",
       "    </tr>\n",
       "    <tr>\n",
       "      <th>75%</th>\n",
       "      <td>1.433261e+07</td>\n",
       "      <td>10.000000</td>\n",
       "    </tr>\n",
       "    <tr>\n",
       "      <th>max</th>\n",
       "      <td>1.433529e+07</td>\n",
       "      <td>10.000000</td>\n",
       "    </tr>\n",
       "  </tbody>\n",
       "</table>\n",
       "</div>"
      ],
      "text/plain": [
       "                 no         rate\n",
       "count  9.585000e+03  9585.000000\n",
       "mean   1.432988e+07     8.718310\n",
       "std    3.146935e+03     2.484162\n",
       "min    1.432442e+07     1.000000\n",
       "25%    1.432714e+07     8.000000\n",
       "50%    1.432989e+07    10.000000\n",
       "75%    1.433261e+07    10.000000\n",
       "max    1.433529e+07    10.000000"
      ]
     },
     "execution_count": 59,
     "metadata": {},
     "output_type": "execute_result"
    }
   ],
   "source": [
    "df.describe()"
   ]
  },
  {
   "cell_type": "code",
   "execution_count": 60,
   "metadata": {},
   "outputs": [
    {
     "name": "stdout",
     "output_type": "stream",
     "text": [
      "<class 'pandas.core.frame.DataFrame'>\n",
      "RangeIndex: 9585 entries, 0 to 9584\n",
      "Data columns (total 4 columns):\n",
      "no         9585 non-null int64\n",
      "movie      9585 non-null object\n",
      "content    9585 non-null object\n",
      "rate       9585 non-null int64\n",
      "dtypes: int64(2), object(2)\n",
      "memory usage: 299.6+ KB\n"
     ]
    }
   ],
   "source": [
    "df.info()"
   ]
  },
  {
   "cell_type": "code",
   "execution_count": 61,
   "metadata": {},
   "outputs": [
    {
     "data": {
      "text/html": [
       "<div>\n",
       "<style scoped>\n",
       "    .dataframe tbody tr th:only-of-type {\n",
       "        vertical-align: middle;\n",
       "    }\n",
       "\n",
       "    .dataframe tbody tr th {\n",
       "        vertical-align: top;\n",
       "    }\n",
       "\n",
       "    .dataframe thead th {\n",
       "        text-align: right;\n",
       "    }\n",
       "</style>\n",
       "<table border=\"1\" class=\"dataframe\">\n",
       "  <thead>\n",
       "    <tr style=\"text-align: right;\">\n",
       "      <th></th>\n",
       "      <th>no</th>\n",
       "      <th>movie</th>\n",
       "      <th>content</th>\n",
       "      <th>rate</th>\n",
       "    </tr>\n",
       "  </thead>\n",
       "  <tbody>\n",
       "    <tr>\n",
       "      <th>0</th>\n",
       "      <td>14335294</td>\n",
       "      <td>군함도</td>\n",
       "      <td>최악의 역사왜곡영화다 이거는</td>\n",
       "      <td>1</td>\n",
       "    </tr>\n",
       "    <tr>\n",
       "      <th>1</th>\n",
       "      <td>14335293</td>\n",
       "      <td>백발마녀전</td>\n",
       "      <td>이 당시 홍콩 영화는 옥석이 심하게 뒤섞인 듯. 이 영화는 아주 고품질의 옥 중의 ...</td>\n",
       "      <td>8</td>\n",
       "    </tr>\n",
       "    <tr>\n",
       "      <th>2</th>\n",
       "      <td>14335292</td>\n",
       "      <td>인크레더블 2</td>\n",
       "      <td>잭잭이가 신의한수~~핵겨움~~</td>\n",
       "      <td>8</td>\n",
       "    </tr>\n",
       "    <tr>\n",
       "      <th>3</th>\n",
       "      <td>14335291</td>\n",
       "      <td>곤지암</td>\n",
       "      <td>볼만 했음 분위기도 음산하고 으스스한게 괜찮았습니다</td>\n",
       "      <td>8</td>\n",
       "    </tr>\n",
       "    <tr>\n",
       "      <th>4</th>\n",
       "      <td>14335290</td>\n",
       "      <td>아수라</td>\n",
       "      <td>실화라고 미리 말했어야죠</td>\n",
       "      <td>10</td>\n",
       "    </tr>\n",
       "    <tr>\n",
       "      <th>5</th>\n",
       "      <td>14335289</td>\n",
       "      <td>싱 스트리트</td>\n",
       "      <td>멋지다 그들이 부러웠다</td>\n",
       "      <td>10</td>\n",
       "    </tr>\n",
       "    <tr>\n",
       "      <th>6</th>\n",
       "      <td>14335288</td>\n",
       "      <td>앤트맨과 와스프</td>\n",
       "      <td>생각보다 재밌었고 볼만했음</td>\n",
       "      <td>8</td>\n",
       "    </tr>\n",
       "    <tr>\n",
       "      <th>7</th>\n",
       "      <td>14335287</td>\n",
       "      <td>툼레이더</td>\n",
       "      <td>인디아나존스 최후의성전 대놓고 표절했네. 근데 어째 그 옛날 인디아나존스보다 재미,...</td>\n",
       "      <td>1</td>\n",
       "    </tr>\n",
       "    <tr>\n",
       "      <th>8</th>\n",
       "      <td>14335286</td>\n",
       "      <td>에어</td>\n",
       "      <td>너무재미있고 농구광인 나에겐 최고의 영화!</td>\n",
       "      <td>9</td>\n",
       "    </tr>\n",
       "    <tr>\n",
       "      <th>9</th>\n",
       "      <td>14335285</td>\n",
       "      <td>마녀</td>\n",
       "      <td>재밋음ㅋㅋㅋㅋ 연기도 좋구</td>\n",
       "      <td>10</td>\n",
       "    </tr>\n",
       "  </tbody>\n",
       "</table>\n",
       "</div>"
      ],
      "text/plain": [
       "         no     movie                                            content  rate\n",
       "0  14335294       군함도                                    최악의 역사왜곡영화다 이거는     1\n",
       "1  14335293     백발마녀전  이 당시 홍콩 영화는 옥석이 심하게 뒤섞인 듯. 이 영화는 아주 고품질의 옥 중의 ...     8\n",
       "2  14335292   인크레더블 2                                   잭잭이가 신의한수~~핵겨움~~     8\n",
       "3  14335291       곤지암                       볼만 했음 분위기도 음산하고 으스스한게 괜찮았습니다     8\n",
       "4  14335290       아수라                                      실화라고 미리 말했어야죠    10\n",
       "5  14335289    싱 스트리트                                       멋지다 그들이 부러웠다    10\n",
       "6  14335288  앤트맨과 와스프                                     생각보다 재밌었고 볼만했음     8\n",
       "7  14335287      툼레이더  인디아나존스 최후의성전 대놓고 표절했네. 근데 어째 그 옛날 인디아나존스보다 재미,...     1\n",
       "8  14335286        에어                            너무재미있고 농구광인 나에겐 최고의 영화!     9\n",
       "9  14335285        마녀                                     재밋음ㅋㅋㅋㅋ 연기도 좋구    10"
      ]
     },
     "execution_count": 61,
     "metadata": {},
     "output_type": "execute_result"
    }
   ],
   "source": [
    "df.head(10)"
   ]
  },
  {
   "cell_type": "code",
   "execution_count": 62,
   "metadata": {},
   "outputs": [],
   "source": [
    "df_movie = df.drop(['no', 'movie'], axis=1)"
   ]
  },
  {
   "cell_type": "code",
   "execution_count": 63,
   "metadata": {},
   "outputs": [
    {
     "data": {
      "text/html": [
       "<div>\n",
       "<style scoped>\n",
       "    .dataframe tbody tr th:only-of-type {\n",
       "        vertical-align: middle;\n",
       "    }\n",
       "\n",
       "    .dataframe tbody tr th {\n",
       "        vertical-align: top;\n",
       "    }\n",
       "\n",
       "    .dataframe thead th {\n",
       "        text-align: right;\n",
       "    }\n",
       "</style>\n",
       "<table border=\"1\" class=\"dataframe\">\n",
       "  <thead>\n",
       "    <tr style=\"text-align: right;\">\n",
       "      <th></th>\n",
       "      <th>content</th>\n",
       "      <th>rate</th>\n",
       "    </tr>\n",
       "  </thead>\n",
       "  <tbody>\n",
       "    <tr>\n",
       "      <th>0</th>\n",
       "      <td>최악의 역사왜곡영화다 이거는</td>\n",
       "      <td>1</td>\n",
       "    </tr>\n",
       "    <tr>\n",
       "      <th>1</th>\n",
       "      <td>이 당시 홍콩 영화는 옥석이 심하게 뒤섞인 듯. 이 영화는 아주 고품질의 옥 중의 ...</td>\n",
       "      <td>8</td>\n",
       "    </tr>\n",
       "    <tr>\n",
       "      <th>2</th>\n",
       "      <td>잭잭이가 신의한수~~핵겨움~~</td>\n",
       "      <td>8</td>\n",
       "    </tr>\n",
       "    <tr>\n",
       "      <th>3</th>\n",
       "      <td>볼만 했음 분위기도 음산하고 으스스한게 괜찮았습니다</td>\n",
       "      <td>8</td>\n",
       "    </tr>\n",
       "    <tr>\n",
       "      <th>4</th>\n",
       "      <td>실화라고 미리 말했어야죠</td>\n",
       "      <td>10</td>\n",
       "    </tr>\n",
       "    <tr>\n",
       "      <th>5</th>\n",
       "      <td>멋지다 그들이 부러웠다</td>\n",
       "      <td>10</td>\n",
       "    </tr>\n",
       "    <tr>\n",
       "      <th>6</th>\n",
       "      <td>생각보다 재밌었고 볼만했음</td>\n",
       "      <td>8</td>\n",
       "    </tr>\n",
       "    <tr>\n",
       "      <th>7</th>\n",
       "      <td>인디아나존스 최후의성전 대놓고 표절했네. 근데 어째 그 옛날 인디아나존스보다 재미,...</td>\n",
       "      <td>1</td>\n",
       "    </tr>\n",
       "    <tr>\n",
       "      <th>8</th>\n",
       "      <td>너무재미있고 농구광인 나에겐 최고의 영화!</td>\n",
       "      <td>9</td>\n",
       "    </tr>\n",
       "    <tr>\n",
       "      <th>9</th>\n",
       "      <td>재밋음ㅋㅋㅋㅋ 연기도 좋구</td>\n",
       "      <td>10</td>\n",
       "    </tr>\n",
       "  </tbody>\n",
       "</table>\n",
       "</div>"
      ],
      "text/plain": [
       "                                             content  rate\n",
       "0                                    최악의 역사왜곡영화다 이거는     1\n",
       "1  이 당시 홍콩 영화는 옥석이 심하게 뒤섞인 듯. 이 영화는 아주 고품질의 옥 중의 ...     8\n",
       "2                                   잭잭이가 신의한수~~핵겨움~~     8\n",
       "3                       볼만 했음 분위기도 음산하고 으스스한게 괜찮았습니다     8\n",
       "4                                      실화라고 미리 말했어야죠    10\n",
       "5                                       멋지다 그들이 부러웠다    10\n",
       "6                                     생각보다 재밌었고 볼만했음     8\n",
       "7  인디아나존스 최후의성전 대놓고 표절했네. 근데 어째 그 옛날 인디아나존스보다 재미,...     1\n",
       "8                            너무재미있고 농구광인 나에겐 최고의 영화!     9\n",
       "9                                     재밋음ㅋㅋㅋㅋ 연기도 좋구    10"
      ]
     },
     "execution_count": 63,
     "metadata": {},
     "output_type": "execute_result"
    }
   ],
   "source": [
    "df_movie.head(10)"
   ]
  },
  {
   "cell_type": "code",
   "execution_count": 64,
   "metadata": {},
   "outputs": [],
   "source": [
    "# 학습 시킬 데이터프레임 저장 \n",
    "df_movie.to_pickle(\"df_movie_review.pkl\")"
   ]
  },
  {
   "cell_type": "code",
   "execution_count": 65,
   "metadata": {},
   "outputs": [],
   "source": [
    "# 피클로 저장한 학습 데이터 프레임 불러오기 \n",
    "df_movies = pd.read_pickle('df_movie_review.pkl')"
   ]
  },
  {
   "cell_type": "code",
   "execution_count": 66,
   "metadata": {},
   "outputs": [
    {
     "data": {
      "text/html": [
       "<div>\n",
       "<style scoped>\n",
       "    .dataframe tbody tr th:only-of-type {\n",
       "        vertical-align: middle;\n",
       "    }\n",
       "\n",
       "    .dataframe tbody tr th {\n",
       "        vertical-align: top;\n",
       "    }\n",
       "\n",
       "    .dataframe thead th {\n",
       "        text-align: right;\n",
       "    }\n",
       "</style>\n",
       "<table border=\"1\" class=\"dataframe\">\n",
       "  <thead>\n",
       "    <tr style=\"text-align: right;\">\n",
       "      <th></th>\n",
       "      <th>content</th>\n",
       "      <th>rate</th>\n",
       "    </tr>\n",
       "  </thead>\n",
       "  <tbody>\n",
       "    <tr>\n",
       "      <th>0</th>\n",
       "      <td>최악의 역사왜곡영화다 이거는</td>\n",
       "      <td>1</td>\n",
       "    </tr>\n",
       "    <tr>\n",
       "      <th>1</th>\n",
       "      <td>이 당시 홍콩 영화는 옥석이 심하게 뒤섞인 듯. 이 영화는 아주 고품질의 옥 중의 ...</td>\n",
       "      <td>8</td>\n",
       "    </tr>\n",
       "    <tr>\n",
       "      <th>2</th>\n",
       "      <td>잭잭이가 신의한수~~핵겨움~~</td>\n",
       "      <td>8</td>\n",
       "    </tr>\n",
       "  </tbody>\n",
       "</table>\n",
       "</div>"
      ],
      "text/plain": [
       "                                             content  rate\n",
       "0                                    최악의 역사왜곡영화다 이거는     1\n",
       "1  이 당시 홍콩 영화는 옥석이 심하게 뒤섞인 듯. 이 영화는 아주 고품질의 옥 중의 ...     8\n",
       "2                                   잭잭이가 신의한수~~핵겨움~~     8"
      ]
     },
     "execution_count": 66,
     "metadata": {},
     "output_type": "execute_result"
    }
   ],
   "source": [
    "df_movies.head(3)"
   ]
  },
  {
   "cell_type": "markdown",
   "metadata": {},
   "source": [
    "### train set 과 test set  "
   ]
  },
  {
   "cell_type": "code",
   "execution_count": 67,
   "metadata": {},
   "outputs": [],
   "source": [
    "def split_train_Test(data, test_ratio):\n",
    "    shuffled_indices = np.random.permutation(len(data))\n",
    "    test_set_size = int(len(data) * test_ratio)\n",
    "    test_indices = shuffled_indices[:test_set_size]\n",
    "    train_indices = shuffled_indices[test_set_size:]\n",
    "    return data.iloc[train_indices], data.iloc[test_indices]"
   ]
  },
  {
   "cell_type": "code",
   "execution_count": 68,
   "metadata": {},
   "outputs": [],
   "source": [
    "train_set, test_set = split_train_Test(df_movies, 0.2)"
   ]
  },
  {
   "cell_type": "code",
   "execution_count": 69,
   "metadata": {},
   "outputs": [
    {
     "name": "stdout",
     "output_type": "stream",
     "text": [
      "train set : 7668 , test set : 1917\n"
     ]
    }
   ],
   "source": [
    "print('train set :',len(train_set), ', test set :',len(test_set) )"
   ]
  },
  {
   "cell_type": "code",
   "execution_count": 70,
   "metadata": {},
   "outputs": [
    {
     "data": {
      "text/html": [
       "<div>\n",
       "<style scoped>\n",
       "    .dataframe tbody tr th:only-of-type {\n",
       "        vertical-align: middle;\n",
       "    }\n",
       "\n",
       "    .dataframe tbody tr th {\n",
       "        vertical-align: top;\n",
       "    }\n",
       "\n",
       "    .dataframe thead th {\n",
       "        text-align: right;\n",
       "    }\n",
       "</style>\n",
       "<table border=\"1\" class=\"dataframe\">\n",
       "  <thead>\n",
       "    <tr style=\"text-align: right;\">\n",
       "      <th></th>\n",
       "      <th>content</th>\n",
       "      <th>rate</th>\n",
       "    </tr>\n",
       "  </thead>\n",
       "  <tbody>\n",
       "    <tr>\n",
       "      <th>7049</th>\n",
       "      <td>소리가너무.민망해민망행</td>\n",
       "      <td>2</td>\n",
       "    </tr>\n",
       "    <tr>\n",
       "      <th>7094</th>\n",
       "      <td>마지막 아내가 위장한거 나올때 브금때문에 그런지 더 소름돋네요 아오.. 등꼴 오싹해</td>\n",
       "      <td>10</td>\n",
       "    </tr>\n",
       "    <tr>\n",
       "      <th>2739</th>\n",
       "      <td>안남시장 = 안동 출신 성남 시장?? 의도한거면 소름....</td>\n",
       "      <td>10</td>\n",
       "    </tr>\n",
       "  </tbody>\n",
       "</table>\n",
       "</div>"
      ],
      "text/plain": [
       "                                             content  rate\n",
       "7049                                    소리가너무.민망해민망행     2\n",
       "7094  마지막 아내가 위장한거 나올때 브금때문에 그런지 더 소름돋네요 아오.. 등꼴 오싹해    10\n",
       "2739               안남시장 = 안동 출신 성남 시장?? 의도한거면 소름....    10"
      ]
     },
     "execution_count": 70,
     "metadata": {},
     "output_type": "execute_result"
    }
   ],
   "source": [
    "train_set.head(3)"
   ]
  },
  {
   "cell_type": "code",
   "execution_count": 72,
   "metadata": {},
   "outputs": [],
   "source": [
    "train_x, train_y = train_set['content'], train_set['rate']"
   ]
  },
  {
   "cell_type": "code",
   "execution_count": 80,
   "metadata": {},
   "outputs": [],
   "source": [
    "test_x, test_y = test_set['content'], train_set['rate']"
   ]
  },
  {
   "cell_type": "markdown",
   "metadata": {},
   "source": [
    "---"
   ]
  },
  {
   "cell_type": "markdown",
   "metadata": {},
   "source": [
    "## 리뷰 데이터 자연어 처리  "
   ]
  },
  {
   "cell_type": "markdown",
   "metadata": {},
   "source": [
    "### Tokenizing  "
   ]
  },
  {
   "cell_type": "code",
   "execution_count": 77,
   "metadata": {},
   "outputs": [],
   "source": [
    "twitter = Twitter()\n",
    "\n",
    "def tokenizer_twitter_morphs(doc):\n",
    "    return twitter.morphs(doc)\n",
    "\n",
    "def tokenizer_twitter_noun(doc):\n",
    "    return twitter.nouns(doc)\n",
    "\n",
    "def tokenizer_twitter_pos(doc):\n",
    "    return twitter.pos(doc, norm=True, stem = True)"
   ]
  },
  {
   "cell_type": "code",
   "execution_count": 79,
   "metadata": {},
   "outputs": [],
   "source": [
    "kkma = Kkma()\n",
    "\n",
    "def tokenizer_kkma_noun(doc):\n",
    "    return kkma.nouns(doc)\n",
    "\n",
    "def tokenizer_morps(doc):\n",
    "    return kkma.morphs(doc)"
   ]
  },
  {
   "cell_type": "code",
   "execution_count": 83,
   "metadata": {},
   "outputs": [
    {
     "name": "stderr",
     "output_type": "stream",
     "text": [
      "C:\\Program Files\\Anaconda3\\lib\\site-packages\\ipykernel_launcher.py:2: SettingWithCopyWarning: \n",
      "A value is trying to be set on a copy of a slice from a DataFrame.\n",
      "Try using .loc[row_indexer,col_indexer] = value instead\n",
      "\n",
      "See the caveats in the documentation: http://pandas.pydata.org/pandas-docs/stable/indexing.html#indexing-view-versus-copy\n",
      "  \n"
     ]
    }
   ],
   "source": [
    "# 학습 데이터 리뷰 토큰화\n",
    "train_set['train_token'] = train_x.apply(tokenizer_twitter_morphs)"
   ]
  },
  {
   "cell_type": "code",
   "execution_count": 84,
   "metadata": {},
   "outputs": [
    {
     "data": {
      "text/html": [
       "<div>\n",
       "<style scoped>\n",
       "    .dataframe tbody tr th:only-of-type {\n",
       "        vertical-align: middle;\n",
       "    }\n",
       "\n",
       "    .dataframe tbody tr th {\n",
       "        vertical-align: top;\n",
       "    }\n",
       "\n",
       "    .dataframe thead th {\n",
       "        text-align: right;\n",
       "    }\n",
       "</style>\n",
       "<table border=\"1\" class=\"dataframe\">\n",
       "  <thead>\n",
       "    <tr style=\"text-align: right;\">\n",
       "      <th></th>\n",
       "      <th>content</th>\n",
       "      <th>rate</th>\n",
       "      <th>train_token</th>\n",
       "    </tr>\n",
       "  </thead>\n",
       "  <tbody>\n",
       "    <tr>\n",
       "      <th>7049</th>\n",
       "      <td>소리가너무.민망해민망행</td>\n",
       "      <td>2</td>\n",
       "      <td>[소리, 가, 너무, ., 민망, 해, 민망, 행]</td>\n",
       "    </tr>\n",
       "    <tr>\n",
       "      <th>7094</th>\n",
       "      <td>마지막 아내가 위장한거 나올때 브금때문에 그런지 더 소름돋네요 아오.. 등꼴 오싹해</td>\n",
       "      <td>10</td>\n",
       "      <td>[마지막, 아내, 가, 위장, 한, 거, 나올, 때, 브금, 때문, 에, 그런, 지...</td>\n",
       "    </tr>\n",
       "    <tr>\n",
       "      <th>2739</th>\n",
       "      <td>안남시장 = 안동 출신 성남 시장?? 의도한거면 소름....</td>\n",
       "      <td>10</td>\n",
       "      <td>[안남, 시장, =, 안동, 출신, 성남, 시장, ??, 의도, 한, 거, 면, 소...</td>\n",
       "    </tr>\n",
       "    <tr>\n",
       "      <th>2294</th>\n",
       "      <td>3편기대합니다~^-^/</td>\n",
       "      <td>10</td>\n",
       "      <td>[3, 편, 기대합, 니다, ~^-^/]</td>\n",
       "    </tr>\n",
       "    <tr>\n",
       "      <th>6315</th>\n",
       "      <td>정우성 연기보고 정말 놀랬습니다. 어떻게 연기를 그렇게 오래한사람이 젊은 애들한테도...</td>\n",
       "      <td>1</td>\n",
       "      <td>[정우성, 연기, 보고, 정말, 놀랬습니, 다, ., 어떻, 게, 연기, 를, 그렇...</td>\n",
       "    </tr>\n",
       "  </tbody>\n",
       "</table>\n",
       "</div>"
      ],
      "text/plain": [
       "                                                content  rate  \\\n",
       "7049                                       소리가너무.민망해민망행     2   \n",
       "7094     마지막 아내가 위장한거 나올때 브금때문에 그런지 더 소름돋네요 아오.. 등꼴 오싹해    10   \n",
       "2739                  안남시장 = 안동 출신 성남 시장?? 의도한거면 소름....    10   \n",
       "2294                                       3편기대합니다~^-^/    10   \n",
       "6315  정우성 연기보고 정말 놀랬습니다. 어떻게 연기를 그렇게 오래한사람이 젊은 애들한테도...     1   \n",
       "\n",
       "                                            train_token  \n",
       "7049                       [소리, 가, 너무, ., 민망, 해, 민망, 행]  \n",
       "7094  [마지막, 아내, 가, 위장, 한, 거, 나올, 때, 브금, 때문, 에, 그런, 지...  \n",
       "2739  [안남, 시장, =, 안동, 출신, 성남, 시장, ??, 의도, 한, 거, 면, 소...  \n",
       "2294                             [3, 편, 기대합, 니다, ~^-^/]  \n",
       "6315  [정우성, 연기, 보고, 정말, 놀랬습니, 다, ., 어떻, 게, 연기, 를, 그렇...  "
      ]
     },
     "execution_count": 84,
     "metadata": {},
     "output_type": "execute_result"
    }
   ],
   "source": [
    "train_set.head()"
   ]
  },
  {
   "cell_type": "code",
   "execution_count": 85,
   "metadata": {},
   "outputs": [
    {
     "name": "stderr",
     "output_type": "stream",
     "text": [
      "C:\\Program Files\\Anaconda3\\lib\\site-packages\\ipykernel_launcher.py:2: SettingWithCopyWarning: \n",
      "A value is trying to be set on a copy of a slice from a DataFrame.\n",
      "Try using .loc[row_indexer,col_indexer] = value instead\n",
      "\n",
      "See the caveats in the documentation: http://pandas.pydata.org/pandas-docs/stable/indexing.html#indexing-view-versus-copy\n",
      "  \n"
     ]
    }
   ],
   "source": [
    "# 테스트 데이터 리뷰 토큰화\n",
    "test_set['test_token'] = test_x.apply(tokenizer_twitter_morphs)"
   ]
  },
  {
   "cell_type": "code",
   "execution_count": 87,
   "metadata": {},
   "outputs": [
    {
     "data": {
      "text/html": [
       "<div>\n",
       "<style scoped>\n",
       "    .dataframe tbody tr th:only-of-type {\n",
       "        vertical-align: middle;\n",
       "    }\n",
       "\n",
       "    .dataframe tbody tr th {\n",
       "        vertical-align: top;\n",
       "    }\n",
       "\n",
       "    .dataframe thead th {\n",
       "        text-align: right;\n",
       "    }\n",
       "</style>\n",
       "<table border=\"1\" class=\"dataframe\">\n",
       "  <thead>\n",
       "    <tr style=\"text-align: right;\">\n",
       "      <th></th>\n",
       "      <th>content</th>\n",
       "      <th>rate</th>\n",
       "      <th>test_token</th>\n",
       "    </tr>\n",
       "  </thead>\n",
       "  <tbody>\n",
       "    <tr>\n",
       "      <th>7009</th>\n",
       "      <td>현실고증영화 feet 이재명</td>\n",
       "      <td>10</td>\n",
       "      <td>[현실, 고증, 영화, feet, 이재명]</td>\n",
       "    </tr>\n",
       "    <tr>\n",
       "      <th>5515</th>\n",
       "      <td>재개봉 합시다!!!!</td>\n",
       "      <td>10</td>\n",
       "      <td>[재, 개봉, 합, 시, 다, !!!!]</td>\n",
       "    </tr>\n",
       "    <tr>\n",
       "      <th>8004</th>\n",
       "      <td>스릴러 액션 모두 좋네요~</td>\n",
       "      <td>10</td>\n",
       "      <td>[스릴러, 액션, 모두, 좋, 네요, ~]</td>\n",
       "    </tr>\n",
       "    <tr>\n",
       "      <th>4368</th>\n",
       "      <td>진짜 DVD 소장용 구매완료.진짜 소름... 감독님 대단하신분같음....디테일이....</td>\n",
       "      <td>10</td>\n",
       "      <td>[진짜, DVD, 소장, 용, 구매, 완료, ., 진짜, 소름, ..., 감독, 님...</td>\n",
       "    </tr>\n",
       "    <tr>\n",
       "      <th>6345</th>\n",
       "      <td>상당한 수작입니다. 그리고 한국 영화계의 빅스타 예고!!! 이런 여주인공이 나오다니♥♥♥</td>\n",
       "      <td>10</td>\n",
       "      <td>[상당한, 수작, 입니, 다, ., 그리고, 한국, 영화계, 의, 빅스타, 예고, ...</td>\n",
       "    </tr>\n",
       "  </tbody>\n",
       "</table>\n",
       "</div>"
      ],
      "text/plain": [
       "                                                content  rate  \\\n",
       "7009                                    현실고증영화 feet 이재명    10   \n",
       "5515                                        재개봉 합시다!!!!    10   \n",
       "8004                                     스릴러 액션 모두 좋네요~    10   \n",
       "4368   진짜 DVD 소장용 구매완료.진짜 소름... 감독님 대단하신분같음....디테일이....    10   \n",
       "6345  상당한 수작입니다. 그리고 한국 영화계의 빅스타 예고!!! 이런 여주인공이 나오다니♥♥♥    10   \n",
       "\n",
       "                                             test_token  \n",
       "7009                            [현실, 고증, 영화, feet, 이재명]  \n",
       "5515                             [재, 개봉, 합, 시, 다, !!!!]  \n",
       "8004                            [스릴러, 액션, 모두, 좋, 네요, ~]  \n",
       "4368  [진짜, DVD, 소장, 용, 구매, 완료, ., 진짜, 소름, ..., 감독, 님...  \n",
       "6345  [상당한, 수작, 입니, 다, ., 그리고, 한국, 영화계, 의, 빅스타, 예고, ...  "
      ]
     },
     "execution_count": 87,
     "metadata": {},
     "output_type": "execute_result"
    }
   ],
   "source": [
    "test_set.head()"
   ]
  },
  {
   "cell_type": "code",
   "execution_count": 89,
   "metadata": {},
   "outputs": [],
   "source": [
    "tokens = [t for d in train_set['train_token'] for t in d]"
   ]
  },
  {
   "cell_type": "code",
   "execution_count": 90,
   "metadata": {},
   "outputs": [
    {
     "name": "stdout",
     "output_type": "stream",
     "text": [
      "117803\n"
     ]
    }
   ],
   "source": [
    "print(len(tokens))"
   ]
  },
  {
   "cell_type": "markdown",
   "metadata": {},
   "source": [
    "###  Explore data using NLTK"
   ]
  },
  {
   "cell_type": "code",
   "execution_count": 91,
   "metadata": {},
   "outputs": [],
   "source": [
    "import nltk"
   ]
  },
  {
   "cell_type": "code",
   "execution_count": 92,
   "metadata": {},
   "outputs": [],
   "source": [
    "text = nltk.Text(tokens)"
   ]
  },
  {
   "cell_type": "code",
   "execution_count": 93,
   "metadata": {},
   "outputs": [
    {
     "name": "stdout",
     "output_type": "stream",
     "text": [
      "117803\n"
     ]
    }
   ],
   "source": [
    "print(len(text.tokens))"
   ]
  },
  {
   "cell_type": "code",
   "execution_count": 94,
   "metadata": {},
   "outputs": [
    {
     "name": "stdout",
     "output_type": "stream",
     "text": [
      "11177\n"
     ]
    }
   ],
   "source": [
    "# 중복을 제거한 토큰의 갯수 \n",
    "print(len(set(text.tokens)))"
   ]
  },
  {
   "cell_type": "code",
   "execution_count": 95,
   "metadata": {},
   "outputs": [
    {
     "name": "stdout",
     "output_type": "stream",
     "text": [
      "[('.', 3167), ('이', 2844), ('영화', 2421), ('다', 2136), ('가', 1419), ('요', 1338), ('을', 1289), ('도', 1198), ('에', 1166), ('의', 1090)]\n"
     ]
    }
   ],
   "source": [
    "# 가장 많이 나온 상위 토큰 \n",
    "print(text.vocab().most_common(10))"
   ]
  },
  {
   "cell_type": "code",
   "execution_count": 96,
   "metadata": {},
   "outputs": [
    {
     "name": "stdout",
     "output_type": "stream",
     "text": [
      "[('상이', 1), ('현자', 1), ('노벨', 1), ('수상자', 1), ('노벨상', 1), ('뭔지암', 1), ('믿든드', 1), ('겸비', 1), ('펑퍼펑', 1), ('너넨', 1), ('1532196197079', 1), ('224003665975108322783', 1), ('단말', 1), ('쏘세', 1), ('구점', 1), ('백점만점', 1), ('잭잭귀', 1), ('배틀', 1), ('나옵', 1)]\n"
     ]
    }
   ],
   "source": [
    "# 가장 적게 나온 하위 토큰\n",
    "print(text.vocab().most_common()[:-20:-1])"
   ]
  },
  {
   "cell_type": "markdown",
   "metadata": {},
   "source": [
    "### Visualization"
   ]
  },
  {
   "cell_type": "code",
   "execution_count": 100,
   "metadata": {},
   "outputs": [],
   "source": [
    "from matplotlib import font_manager, rc\n",
    "import matplotlib"
   ]
  },
  {
   "cell_type": "markdown",
   "metadata": {},
   "source": [
    "#### plot 그릴때 한글 깨지는거 방지 "
   ]
  },
  {
   "cell_type": "code",
   "execution_count": 105,
   "metadata": {},
   "outputs": [],
   "source": [
    "font_list = font_manager.findSystemFonts(fontpaths=None, fontext='ttf')\n",
    "#폰트 추가\n",
    "font = font_manager.FontProperties(fname=\"C:\\\\WINDOWS\\\\Fonts\\\\NGULIM.TTF\").get_name()\n",
    "rc(\"font\", family=font)"
   ]
  },
  {
   "cell_type": "code",
   "execution_count": 104,
   "metadata": {},
   "outputs": [
    {
     "data": {
      "image/png": "[encoded data removed]",
      "text/plain": [
       "<Figure size 432x288 with 1 Axes>"
      ]
     },
     "metadata": {},
     "output_type": "display_data"
    },
    {
     "name": "stdout",
     "output_type": "stream",
     "text": [
      "None\n"
     ]
    }
   ],
   "source": [
    "print(text.plot(20))"
   ]
  },
  {
   "cell_type": "code",
   "execution_count": null,
   "metadata": {},
   "outputs": [],
   "source": []
  }
 ],
 "metadata": {
  "kernelspec": {
   "display_name": "Python 3",
   "language": "python",
   "name": "python3"
  },
  "language_info": {
   "codemirror_mode": {
    "name": "ipython",
    "version": 3
   },
   "file_extension": ".py",
   "mimetype": "text/x-python",
   "name": "python",
   "nbconvert_exporter": "python",
   "pygments_lexer": "ipython3",
   "version": "3.6.6"
  }
 },
 "nbformat": 4,
 "nbformat_minor": 2
}
